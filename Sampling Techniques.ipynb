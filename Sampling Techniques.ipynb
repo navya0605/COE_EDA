{
 "cells": [
  {
   "cell_type": "markdown",
   "id": "a4e71adb",
   "metadata": {},
   "source": [
    "# Balancing a Dataset with Downsampling"
   ]
  },
  {
   "cell_type": "markdown",
   "id": "ca5f408a",
   "metadata": {},
   "source": [
    "dataset-binary classification task-classes are imbalanced- downsample the majority class to balance dataset"
   ]
  },
  {
   "cell_type": "code",
   "execution_count": 6,
   "id": "343aee2b",
   "metadata": {},
   "outputs": [],
   "source": [
    "import pandas as pd\n",
    "from sklearn.utils import resample\n",
    "\n",
    "# Creating the DataFrame\n",
    "df = pd.DataFrame({\n",
    "    'Age': [22, 25, 27, 28, 30, 35, 40,45, 50, 55,60, 65, 70],\n",
    "    'Income': [2000, 2500, 2700, 3200, 3500, 3800, 4000, 4200, 4300, 4500, 5000, 5500, 6000],\n",
    "    'Class': ['High', 'Low', 'Low', 'High', 'High', 'Low', 'High', 'High', 'Low', 'Low', 'High', 'High', 'Low']\n",
    "})"
   ]
  },
  {
   "cell_type": "markdown",
   "id": "eed0945d",
   "metadata": {},
   "source": [
    "high-7 low-6 instances"
   ]
  },
  {
   "cell_type": "code",
   "execution_count": 14,
   "id": "20940d52",
   "metadata": {},
   "outputs": [
    {
     "name": "stdout",
     "output_type": "stream",
     "text": [
      "    Age  Income Class\n",
      "0    22    2000  High\n",
      "3    28    3200  High\n",
      "4    30    3500  High\n",
      "6    40    4000  High\n",
      "7    45    4200  High\n",
      "10   60    5000  High\n",
      "11   65    5500  High \n",
      "     Age  Income Class\n",
      "1    25    2500   Low\n",
      "2    27    2700   Low\n",
      "5    35    3800   Low\n",
      "8    50    4300   Low\n",
      "9    55    4500   Low\n",
      "12   70    6000   Low\n"
     ]
    }
   ],
   "source": [
    "df_high=df[df['Class']=='High']\n",
    "\n",
    "df_low=df[df['Class']=='Low']\n",
    "print(df_high,\"\\n\",df_low)"
   ]
  },
  {
   "cell_type": "code",
   "execution_count": 8,
   "id": "7455e761",
   "metadata": {},
   "outputs": [],
   "source": [
    "#sampling aim is to balance the dataset\n",
    "#downsampling=majority sampling,upsampling= minority sampling\n",
    "#reducing the majority classes is called downsampling\n",
    "#increasing the minority classes is called upsampling\n",
    "#duplicates the value so we get equal instances\n"
   ]
  },
  {
   "cell_type": "code",
   "execution_count": 26,
   "id": "ac8cba1f",
   "metadata": {},
   "outputs": [
    {
     "name": "stdout",
     "output_type": "stream",
     "text": [
      "Class\n",
      "High    6\n",
      "Low     6\n",
      "Name: count, dtype: int64\n"
     ]
    }
   ],
   "source": [
    "df_high_downsampled=resample(df_high,replace=False,n_samples=len(df_low),random_state=42)\n",
    "df_balanced=pd.concat([df_high_downsampled,df_low])\n",
    "print(df_balanced['Class'].value_counts())"
   ]
  },
  {
   "cell_type": "code",
   "execution_count": 30,
   "id": "fcde7a49",
   "metadata": {},
   "outputs": [
    {
     "name": "stdout",
     "output_type": "stream",
     "text": [
      "Class\n",
      "Low     7\n",
      "High    7\n",
      "Name: count, dtype: int64\n"
     ]
    }
   ],
   "source": [
    "df_low_upsampled=resample(df_low,replace=True,n_samples=len(df_high),random_state=42)\n",
    "df_balanced=pd.concat([df_low_upsampled,df_high])\n",
    "print(df_balanced['Class'].value_counts())"
   ]
  },
  {
   "cell_type": "code",
   "execution_count": 31,
   "id": "3ab2213d",
   "metadata": {},
   "outputs": [],
   "source": [
    "import pandas as pd\n",
    "from sklearn.utils import resample\n",
    "\n",
    "# Creating the DataFrame\n",
    "df = pd.DataFrame({\n",
    "    'Age': [22, 25, 27, 28, 30, 35, 40,45, 50, 55,60, 65, 70],\n",
    "    'Income': [2000, 2500, 2700, 3200, 3500, 3800, 4000, 4200, 4300, 4500, 5000, 5500, 6000],\n",
    "    'Class': ['Minority', 'Majority', 'Majority', 'Majority', 'Majority', 'Minority', 'Minority', 'Minority', 'Majority', 'Majority', 'Majority', 'Majority', 'Majority']\n",
    "})"
   ]
  },
  {
   "cell_type": "code",
   "execution_count": 33,
   "id": "2567e8dc",
   "metadata": {},
   "outputs": [
    {
     "name": "stdout",
     "output_type": "stream",
     "text": [
      "    Age  Income     Class\n",
      "1    25    2500  Majority\n",
      "2    27    2700  Majority\n",
      "3    28    3200  Majority\n",
      "4    30    3500  Majority\n",
      "8    50    4300  Majority\n",
      "9    55    4500  Majority\n",
      "10   60    5000  Majority\n",
      "11   65    5500  Majority\n",
      "12   70    6000  Majority \n",
      "    Age  Income     Class\n",
      "0   22    2000  Minority\n",
      "5   35    3800  Minority\n",
      "6   40    4000  Minority\n",
      "7   45    4200  Minority\n"
     ]
    }
   ],
   "source": [
    "df_majority=df[df['Class']=='Majority']\n",
    "\n",
    "df_minority=df[df['Class']=='Minority']\n",
    "print(df_high,\"\\n\",df_low)"
   ]
  },
  {
   "cell_type": "code",
   "execution_count": 34,
   "id": "fc45ec70",
   "metadata": {},
   "outputs": [
    {
     "name": "stdout",
     "output_type": "stream",
     "text": [
      "Class\n",
      "Majority    4\n",
      "Minority    4\n",
      "Name: count, dtype: int64\n"
     ]
    }
   ],
   "source": [
    "df_majority_downsampled=resample(df_majority,replace=False,n_samples=len(df_minority),random_state=42)\n",
    "df_balanced=pd.concat([df_majority_downsampled,df_minority])\n",
    "print(df_balanced['Class'].value_counts())"
   ]
  },
  {
   "cell_type": "code",
   "execution_count": 35,
   "id": "a1afda76",
   "metadata": {},
   "outputs": [
    {
     "name": "stdout",
     "output_type": "stream",
     "text": [
      "Class\n",
      "Minority    9\n",
      "Majority    9\n",
      "Name: count, dtype: int64\n"
     ]
    }
   ],
   "source": [
    "df_minority_upsampled=resample(df_minority,replace=True,n_samples=len(df_majority),random_state=42)\n",
    "df_balanced=pd.concat([df_minority_upsampled,df_majority])\n",
    "print(df_balanced['Class'].value_counts())"
   ]
  },
  {
   "cell_type": "markdown",
   "id": "1970ac23",
   "metadata": {},
   "source": [
    "# SMOTE "
   ]
  },
  {
   "cell_type": "markdown",
   "id": "90e39733",
   "metadata": {},
   "source": [
    "**(synthetic minority oversampling technique)**"
   ]
  },
  {
   "cell_type": "code",
   "execution_count": 3,
   "id": "babd5bf6",
   "metadata": {},
   "outputs": [
    {
     "name": "stdout",
     "output_type": "stream",
     "text": [
      "Requirement already satisfied: imbalanced-learn==0.7.0 in c:\\users\\cvr\\anaconda3\\lib\\site-packages (0.7.0)\n",
      "Requirement already satisfied: numpy>=1.13.3 in c:\\users\\cvr\\anaconda3\\lib\\site-packages (from imbalanced-learn==0.7.0) (1.24.3)\n",
      "Requirement already satisfied: scipy>=0.19.1 in c:\\users\\cvr\\anaconda3\\lib\\site-packages (from imbalanced-learn==0.7.0) (1.11.1)\n",
      "Requirement already satisfied: scikit-learn>=0.23 in c:\\users\\cvr\\anaconda3\\lib\\site-packages (from imbalanced-learn==0.7.0) (1.3.0)\n",
      "Requirement already satisfied: joblib>=0.11 in c:\\users\\cvr\\anaconda3\\lib\\site-packages (from imbalanced-learn==0.7.0) (1.2.0)\n",
      "Requirement already satisfied: threadpoolctl>=2.0.0 in c:\\users\\cvr\\anaconda3\\lib\\site-packages (from scikit-learn>=0.23->imbalanced-learn==0.7.0) (2.2.0)\n",
      "Note: you may need to restart the kernel to use updated packages.\n"
     ]
    }
   ],
   "source": [
    "pip install imbalanced-learn==0.7.0"
   ]
  },
  {
   "cell_type": "markdown",
   "id": "521f4b06",
   "metadata": {},
   "source": [
    "1.SMOTE to generate synthetic samples instead of duplicating exixting ones\n",
    "\n",
    "2.Convert categorical class labels into numeric form for SMOTE to work\n",
    "\n",
    "3.Apply SMOTE to balance the dataset\n",
    "\n",
    "4.Convert back to original categorical labels\n",
    "\n",
    "5.Combine the resampled data into a final balanced dataset\n"
   ]
  },
  {
   "cell_type": "code",
   "execution_count": 13,
   "id": "b185aa11",
   "metadata": {
    "scrolled": false
   },
   "outputs": [],
   "source": [
    "import pandas as pd\n",
    "from imblearn.over_sampling import SMOTE\n",
    "df = pd.DataFrame({\n",
    "    'Age': [22, 25, 27, 28, 30, 35, 40,45, 50, 55,60, 65, 70],\n",
    "    'Income': [2000, 2500, 2700, 3200, 3500, 3800, 4000, 4200, 4300, 4500, 5000, 5500, 6000],\n",
    "    'Class': ['Minority', 'Majority', 'Majority', 'Majority', 'Majority', 'Minority', 'Minority', 'Minority', 'Majority', 'Majority', 'Majority', 'Majority', 'Majority']\n",
    "})"
   ]
  },
  {
   "cell_type": "code",
   "execution_count": 14,
   "id": "adb64991",
   "metadata": {},
   "outputs": [
    {
     "name": "stdout",
     "output_type": "stream",
     "text": [
      "Class\n",
      "Minority    9\n",
      "Majority    9\n",
      "Name: count, dtype: int64\n",
      "    Age  Income     Class\n",
      "0    22    2000  Minority\n",
      "1    25    2500  Majority\n",
      "2    27    2700  Majority\n",
      "3    28    3200  Majority\n",
      "4    30    3500  Majority\n",
      "5    35    3800  Minority\n",
      "6    40    4000  Minority\n",
      "7    45    4200  Minority\n",
      "8    50    4300  Majority\n",
      "9    55    4500  Majority\n",
      "10   60    5000  Majority\n",
      "11   65    5500  Majority\n",
      "12   70    6000  Majority\n",
      "13   40    4031  Minority\n",
      "14   35    3831  Minority\n",
      "15   44    4176  Minority\n",
      "16   35    3826  Minority\n",
      "17   41    4040  Minority\n"
     ]
    }
   ],
   "source": [
    "\n",
    "df['Class']=df['Class'].map({'Majority':0,'Minority':1})\n",
    "X=df[['Age','Income']]\n",
    "y=df['Class']\n",
    "smote=SMOTE(sampling_strategy='auto',random_state=42,k_neighbors=3)\n",
    "X_resampled,y_resampled=smote.fit_resample(X,y)\n",
    "y_resampled=y_resampled.map({0:'Majority',1:'Minority'})\n",
    "\n",
    "df_balanced=pd.concat([pd.DataFrame(X_resampled,columns=['Age','Income']),pd.DataFrame(y_resampled,columns=['Class'])],axis=1)\n",
    "print(df_balanced['Class'].value_counts())\n",
    "print(df_balanced)"
   ]
  },
  {
   "cell_type": "code",
   "execution_count": null,
   "id": "c6117259",
   "metadata": {},
   "outputs": [],
   "source": []
  },
  {
   "cell_type": "code",
   "execution_count": null,
   "id": "55427250",
   "metadata": {},
   "outputs": [],
   "source": []
  },
  {
   "cell_type": "code",
   "execution_count": null,
   "id": "4b460438",
   "metadata": {},
   "outputs": [],
   "source": []
  }
 ],
 "metadata": {
  "kernelspec": {
   "display_name": "Python 3 (ipykernel)",
   "language": "python",
   "name": "python3"
  },
  "language_info": {
   "codemirror_mode": {
    "name": "ipython",
    "version": 3
   },
   "file_extension": ".py",
   "mimetype": "text/x-python",
   "name": "python",
   "nbconvert_exporter": "python",
   "pygments_lexer": "ipython3",
   "version": "3.11.5"
  }
 },
 "nbformat": 4,
 "nbformat_minor": 5
}
