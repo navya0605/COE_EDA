{
 "cells": [
  {
   "cell_type": "code",
   "execution_count": null,
   "id": "d2d3536a",
   "metadata": {},
   "outputs": [],
   "source": [
    "'''\n",
    "*outlier is or points which are distinct from other points in datasets\n",
    "*criteria to identify outliers:\n",
    "1.data point falls 1.5 times of an interquantilr range above the third quantile and below the 1st quantile\n",
    "2.data point falls outside of 3 standard deviations use z-score if z-score falls outside of 2 standard deviations\n",
    "*reasons:\n",
    "1.Variablity in data\n",
    "2.experimental measurment error\n",
    "*impacts:\n",
    "1.causes inaccurate statistical analysis\n",
    "2.causes impact on mean and standard deviation\n",
    "*methods of finding outliers\n",
    "1.IQR\n",
    "2.z-score\n",
    "3.Scatter plot\n",
    "4.Box-plot\n",
    "\n",
    "'''\n",
    "#short notes on outliers"
   ]
  },
  {
   "cell_type": "code",
   "execution_count": null,
   "id": "2a15c70a",
   "metadata": {},
   "outputs": [],
   "source": []
  },
  {
   "cell_type": "code",
   "execution_count": 2,
   "id": "222871ef",
   "metadata": {},
   "outputs": [],
   "source": [
    "import pandas as pd\n",
    "import numpy as np\n",
    "import matplotlib.pyplot as plt\n",
    "import seaborn as sns\n",
    "from scipy.stats import zscore"
   ]
  },
  {
   "cell_type": "code",
   "execution_count": 3,
   "id": "ff453e52",
   "metadata": {},
   "outputs": [],
   "source": [
    "np.random.seed(42)\n",
    "data=np.random.normal(loc=50,scale=10,size=100)#creating random data\n",
    "outliers=np.array([10,110,5,120])#outliers\n",
    "data=np.concatenate([data,outliers])"
   ]
  },
  {
   "cell_type": "code",
   "execution_count": 5,
   "id": "c745bd0b",
   "metadata": {},
   "outputs": [
    {
     "name": "stdout",
     "output_type": "stream",
     "text": [
      "      Values\n",
      "0  54.967142\n",
      "1  48.617357\n",
      "2  56.476885\n",
      "3  65.230299\n",
      "4  47.658466\n"
     ]
    }
   ],
   "source": [
    "df=pd.DataFrame(data,columns=['Values'])\n",
    "print(df.head())"
   ]
  },
  {
   "cell_type": "code",
   "execution_count": 6,
   "id": "d566d613",
   "metadata": {},
   "outputs": [
    {
     "name": "stdout",
     "output_type": "stream",
     "text": [
      "         Values\n",
      "99    47.654129\n",
      "100   10.000000\n",
      "101  110.000000\n",
      "102    5.000000\n",
      "103  120.000000\n"
     ]
    }
   ],
   "source": [
    "print(df.tail())"
   ]
  },
  {
   "cell_type": "markdown",
   "id": "c2c26eb9",
   "metadata": {},
   "source": [
    "# Using Scatterplot"
   ]
  },
  {
   "cell_type": "markdown",
   "id": "cd85c253",
   "metadata": {},
   "source": [
    "## Scatter plot is used to show datapoints in scattered form detecting outliers ##"
   ]
  },
  {
   "cell_type": "code",
   "execution_count": 17,
   "id": "698bae5a",
   "metadata": {
    "scrolled": true
   },
   "outputs": [
    {
     "data": {
      "image/png": "[encoded data removed]",
      "text/plain": [
       "<Figure size 800x500 with 1 Axes>"
      ]
     },
     "metadata": {},
     "output_type": "display_data"
    }
   ],
   "source": [
    "plt.figure(figsize=(8,5))\n",
    "plt.scatter(range(len(df)),df['Values'],color='blue',label='Data points')\n",
    "plt.axhline(y=df['Values'].mean(),color='red',linestyle='--',label='Mean')\n",
    "plt.xlabel('Index')\n",
    "plt.ylabel('Values')\n",
    "plt.title(\"scatter plot for outlier detection\")\n",
    "plt.legend()\n",
    "plt.show()"
   ]
  },
  {
   "cell_type": "code",
   "execution_count": null,
   "id": "45ce6911",
   "metadata": {},
   "outputs": [],
   "source": []
  },
  {
   "cell_type": "markdown",
   "id": "21d44518",
   "metadata": {},
   "source": [
    "# Box plot"
   ]
  },
  {
   "cell_type": "markdown",
   "id": "4e072caa",
   "metadata": {},
   "source": [
    "## A box plot is used for spotting extreme values using quartiles ##"
   ]
  },
  {
   "cell_type": "markdown",
   "id": "c877435c",
   "metadata": {},
   "source": [
    "plt.figure(figsize=(8,5))\n",
    "sns.boxplot(data=df,y='Values')\n",
    "plt.title(\"Box plot for outlier detection\")\n",
    "plt.show()"
   ]
  },
  {
   "cell_type": "markdown",
   "id": "e3ae3d3e",
   "metadata": {},
   "source": [
    "# z-score Method"
   ]
  },
  {
   "cell_type": "markdown",
   "id": "918abefa",
   "metadata": {},
   "source": [
    "z-score formula is :\n",
    "$$ z = (x-μ)/σ $$\n"
   ]
  },
  {
   "cell_type": "markdown",
   "id": "5a40b818",
   "metadata": {},
   "source": [
    " where:\n",
    " $$x=data point$$\n",
    " $$μ=mean of dataset$$\n",
    " $$σ=standard deviation of dataset$$"
   ]
  },
  {
   "cell_type": "markdown",
   "id": "aeb9f528",
   "metadata": {},
   "source": [
    "Steps:"
   ]
  },
  {
   "cell_type": "markdown",
   "id": "e2e2af43",
   "metadata": {},
   "source": [
    "1.Compute the z-score for each point."
   ]
  },
  {
   "cell_type": "markdown",
   "id": "286b487b",
   "metadata": {},
   "source": [
    "2.if Z-score>3 or z-score<-3,mark it as outlier."
   ]
  },
  {
   "cell_type": "code",
   "execution_count": 20,
   "id": "15e6745e",
   "metadata": {},
   "outputs": [
    {
     "name": "stdout",
     "output_type": "stream",
     "text": [
      "     Values   Z-score Outlier_Z\n",
      "101   110.0  4.328173   outlier\n",
      "102     5.0 -3.175368   outlier\n",
      "103   120.0  5.042796   outlier\n"
     ]
    }
   ],
   "source": [
    "df['Z-score'] = zscore(df['Values'])\n",
    "df['Outlier_Z'] = df['Z-score'].apply(lambda x: 'outlier' if abs(x) > 3 else 'Normal')\n",
    "print(df[df['Outlier_Z'] == 'outlier'])"
   ]
  },
  {
   "cell_type": "markdown",
   "id": "969b7c85",
   "metadata": {},
   "source": [
    "# Interquantile Range(IQR) Method"
   ]
  },
  {
   "cell_type": "markdown",
   "id": "925b9678",
   "metadata": {},
   "source": [
    "The IQR formula is:\n"
   ]
  },
  {
   "cell_type": "markdown",
   "id": "84f417e1",
   "metadata": {},
   "source": [
    "IQR=Q1+Q3"
   ]
  },
  {
   "cell_type": "markdown",
   "id": "d6482bd6",
   "metadata": {},
   "source": [
    "Steps:"
   ]
  },
  {
   "cell_type": "markdown",
   "id": "16d86830",
   "metadata": {},
   "source": [
    "1.Calculate Q1(25th percentile) and Q3(75th percentile)"
   ]
  },
  {
   "cell_type": "markdown",
   "id": "e22d296f",
   "metadata": {},
   "source": [
    "2.Compute IQR=Q3-Q1"
   ]
  },
  {
   "cell_type": "markdown",
   "id": "ce2025a4",
   "metadata": {},
   "source": [
    "3.define lower and upper bounds\n",
    "* $$lower bound=Q1-1.5*IQR$$\n",
    "* $$upper bound = Q3+1*IQR$$"
   ]
  },
  {
   "cell_type": "markdown",
   "id": "145ad2ef",
   "metadata": {},
   "source": [
    "4.Any value outside the bounds is an outlier"
   ]
  },
  {
   "cell_type": "code",
   "execution_count": 22,
   "id": "24f2864f",
   "metadata": {},
   "outputs": [
    {
     "name": "stdout",
     "output_type": "stream",
     "text": [
      "         Values   Z-score Outlier_Z Outlier_IQR\n",
      "74    23.802549 -1.831694    Normal     Outlier\n",
      "100   10.000000 -2.818056    Normal     Outlier\n",
      "101  110.000000  4.328173   outlier     Outlier\n",
      "102    5.000000 -3.175368   outlier     Outlier\n",
      "103  120.000000  5.042796   outlier     Outlier\n"
     ]
    }
   ],
   "source": [
    "Q1=df['Values'].quantile(0.25)\n",
    "Q3=df['Values'].quantile(0.75)\n",
    "IQR=Q3-Q1\n",
    "lower_bound=Q1-1.5*IQR\n",
    "upper_bound=Q3+1.5*IQR\n",
    "df['Outlier_IQR']=df['Values'].apply(lambda x: 'Outlier' if(x<lower_bound or x>upper_bound)else 'Normal')\n",
    "print(df[df['Outlier_IQR']=='Outlier'])#display outlier"
   ]
  },
  {
   "cell_type": "markdown",
   "id": "81609c1f",
   "metadata": {},
   "source": [
    "# Final Summary"
   ]
  },
  {
   "cell_type": "markdown",
   "id": "b9b67ba1",
   "metadata": {},
   "source": [
    "1.Scatter Plot: Outliers far from the main charecter"
   ]
  },
  {
   "cell_type": "markdown",
   "id": "e42c07f8",
   "metadata": {},
   "source": [
    "2.Box plot:Outliers are Outside for whiskers"
   ]
  },
  {
   "cell_type": "markdown",
   "id": "0536cd6d",
   "metadata": {},
   "source": [
    "3.Z-score: Values with Z>3 OR Z<-3 are Outliers"
   ]
  },
  {
   "cell_type": "markdown",
   "id": "68b600b5",
   "metadata": {},
   "source": [
    "4.IQR Method: Values outside[Q1-1.5*IQR,Q3+1.5*IQR]are outliers"
   ]
  },
  {
   "cell_type": "markdown",
   "id": "f2ab3a2d",
   "metadata": {},
   "source": [
    " **Finding Outliers Using the IQR Method with a 5-Number Summary**"
   ]
  },
  {
   "cell_type": "markdown",
   "id": "1b41d7d6",
   "metadata": {},
   "source": [
    "The 5-number summary consists of:\n",
    " \n",
    "* Minimum (Q0) → The smallest value in the dataset.\n",
    " \n",
    "* First Quartile (Q1) → The 25th percentile (lower quartile).\n",
    " \n",
    "* Median (Q2) → The 50th percentile (middle value).\n",
    " \n",
    "* Third Quartile (Q3) → The 75th percentile (upper quartile).\n",
    " \n",
    "* Maximum (Q4) → The largest value in the dataset."
   ]
  },
  {
   "cell_type": "markdown",
   "id": "2e071cac",
   "metadata": {},
   "source": [
    "The Interquartile Range (IQR) is calculated as:\n",
    " \n",
    "$$ IQR=Q3−Q1 $$\n",
    " \n",
    "Any value outside the range:\n",
    " \n",
    "$$[Q1−1.5×IQR,Q3+1.5×IQR] $$\n",
    "\n",
    "is considered an outlier."
   ]
  },
  {
   "cell_type": "markdown",
   "id": "fd118a37",
   "metadata": {},
   "source": [
    "**Let's generate a dataset, compute the 5-number summary, and find the outliers using the IQR**"
   ]
  },
  {
   "cell_type": "code",
   "execution_count": 27,
   "id": "9431df58",
   "metadata": {},
   "outputs": [
    {
     "name": "stdout",
     "output_type": "stream",
     "text": [
      "S-Number Summary:\n",
      "Min:5.0,Q1:43.874401021766715,Median(Q2):55.00852473036764,Max:120.0\n",
      "IQR:11.134123708600924\n",
      "Lower bound:27.17321545886533,Upper Bound71.70971029326903\n",
      "Outliers:[ 23.80254896  10.         110.           5.         120.        ]\n"
     ]
    }
   ],
   "source": [
    "np.random.seed(42)\n",
    "data=np.random.normal(loc=50,scale=10,size=100)\n",
    "outliers=np.array([10,110,5,120])\n",
    "data=np.concatenate([data,outliers])\n",
    "Q1=np.percentile(data,25)\n",
    "Q2=np.median(data)\n",
    "Q3=np.percentile(data,75)\n",
    "min_value=np.min(data)\n",
    "max_value=np.max(data)\n",
    "IQR=Q3-Q1\n",
    "lower_bound=Q1-1.5*IQR\n",
    "upper_bound=Q3+1.5*IQR\n",
    "outliers=data[(data<lower_bound)|(data>upper_bound)]\n",
    "print(f\"S-Number Summary:\\nMin:{min_value},Q1:{Q1},Median(Q2):{Q3},Max:{max_value}\")\n",
    "print(f\"IQR:{IQR}\")\n",
    "print(f\"Lower bound:{lower_bound},Upper Bound{upper_bound}\")\n",
    "print(f\"Outliers:{outliers}\")"
   ]
  },
  {
   "cell_type": "code",
   "execution_count": null,
   "id": "ce0f1e68",
   "metadata": {},
   "outputs": [],
   "source": []
  }
 ],
 "metadata": {
  "kernelspec": {
   "display_name": "Python 3 (ipykernel)",
   "language": "python",
   "name": "python3"
  },
  "language_info": {
   "codemirror_mode": {
    "name": "ipython",
    "version": 3
   },
   "file_extension": ".py",
   "mimetype": "text/x-python",
   "name": "python",
   "nbconvert_exporter": "python",
   "pygments_lexer": "ipython3",
   "version": "3.11.5"
  }
 },
 "nbformat": 4,
 "nbformat_minor": 5
}
