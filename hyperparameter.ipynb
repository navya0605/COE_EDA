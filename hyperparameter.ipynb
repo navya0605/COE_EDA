{
  "nbformat": 4,
  "nbformat_minor": 0,
  "metadata": {
    "colab": {
      "provenance": []
    },
    "kernelspec": {
      "name": "python3",
      "display_name": "Python 3"
    },
    "language_info": {
      "name": "python"
    }
  },
  "cells": [
    {
      "cell_type": "code",
      "execution_count": null,
      "metadata": {
        "colab": {
          "base_uri": "https://localhost:8080/"
        },
        "id": "jthyLJ5s8vxb",
        "outputId": "fc6b6793-7d12-4256-d636-35dd7ec29e55"
      },
      "outputs": [
        {
          "output_type": "stream",
          "name": "stdout",
          "text": [
            "Fitting 5 folds for each of 108 candidates, totalling 540 fits\n",
            "Fitting 5 folds for each of 10 candidates, totalling 50 fits\n",
            "Best Parameters from GridSearchCV: {'max_depth': None, 'min_samples_leaf': 4, 'min_samples_split': 5, 'n_estimators': 100}\n",
            "GridSearchCV Accuracy: 1.0\n",
            "\n",
            "Best Parameters from RandomizedSearchCV: {'n_estimators': 50, 'min_samples_split': 10, 'min_samples_leaf': 2, 'max_depth': None}\n",
            "RandomizedSearchCV Accuracy: 1.0\n",
            "\n",
            "Classification Report (GridSearchCV):\n",
            "               precision    recall  f1-score   support\n",
            "\n",
            "           0       1.00      1.00      1.00        10\n",
            "           1       1.00      1.00      1.00         9\n",
            "           2       1.00      1.00      1.00        11\n",
            "\n",
            "    accuracy                           1.00        30\n",
            "   macro avg       1.00      1.00      1.00        30\n",
            "weighted avg       1.00      1.00      1.00        30\n",
            "\n",
            "\n",
            "Classification Report (RandomizedSearchCV):\n",
            "               precision    recall  f1-score   support\n",
            "\n",
            "           0       1.00      1.00      1.00        10\n",
            "           1       1.00      1.00      1.00         9\n",
            "           2       1.00      1.00      1.00        11\n",
            "\n",
            "    accuracy                           1.00        30\n",
            "   macro avg       1.00      1.00      1.00        30\n",
            "weighted avg       1.00      1.00      1.00        30\n",
            "\n"
          ]
        }
      ],
      "source": [
        "import numpy as np\n",
        "import pandas as pd\n",
        "import matplotlib.pyplot as plt\n",
        "import seaborn as sns\n",
        "from sklearn.model_selection import train_test_split, GridSearchCV, RandomizedSearchCV\n",
        "from sklearn.ensemble import RandomForestClassifier  # Corrected import\n",
        "from sklearn.metrics import accuracy_score, classification_report, confusion_matrix\n",
        "from sklearn.datasets import load_iris\n",
        "\n",
        "# Load dataset\n",
        "df = load_iris()\n",
        "X = df.data\n",
        "y = df.target\n",
        "\n",
        "# Define hyperparameter grid\n",
        "param_grid = {\n",
        "    'n_estimators': [50, 100, 200],\n",
        "    'max_depth': [None, 10, 20, 30],\n",
        "    'min_samples_split': [2, 5, 10],\n",
        "    'min_samples_leaf': [1, 2, 4]\n",
        "}\n",
        "\n",
        "# Split into training and testing sets (80-20 split)\n",
        "X_train, X_test, y_train, y_test = train_test_split(X, y, test_size=0.2, random_state=42)\n",
        "\n",
        "# Apply GridSearchCV\n",
        "grid_search = GridSearchCV(RandomForestClassifier(), param_grid, cv=5, n_jobs=-1, verbose=1)\n",
        "grid_search.fit(X_train, y_train)\n",
        "best_params_grid = grid_search.best_params_  # Store GridSearch best parameters\n",
        "\n",
        "# Apply RandomizedSearchCV\n",
        "random_search = RandomizedSearchCV(RandomForestClassifier(), param_grid, cv=5, n_iter=10, n_jobs=-1, verbose=1)\n",
        "random_search.fit(X_train, y_train)\n",
        "best_params_random = random_search.best_params_  # Store RandomizedSearch best parameters\n",
        "\n",
        "# Train models using best parameters\n",
        "best_model_grid = RandomForestClassifier(**best_params_grid)\n",
        "best_model_grid.fit(X_train, y_train)\n",
        "\n",
        "best_model_random = RandomForestClassifier(**best_params_random)\n",
        "best_model_random.fit(X_train, y_train)\n",
        "\n",
        "# Make predictions\n",
        "y_pred_grid = best_model_grid.predict(X_test)\n",
        "y_pred_random = best_model_random.predict(X_test)\n",
        "\n",
        "# Calculate accuracies\n",
        "accuracy_grid = accuracy_score(y_test, y_pred_grid)\n",
        "accuracy_random = accuracy_score(y_test, y_pred_random)\n",
        "\n",
        "# Print results\n",
        "print(\"Best Parameters from GridSearchCV:\", best_params_grid)\n",
        "print(\"GridSearchCV Accuracy:\", accuracy_grid)\n",
        "\n",
        "print(\"\\nBest Parameters from RandomizedSearchCV:\", best_params_random)\n",
        "print(\"RandomizedSearchCV Accuracy:\", accuracy_random)\n",
        "\n",
        "# Display classification reports\n",
        "print(\"\\nClassification Report (GridSearchCV):\\n\", classification_report(y_test, y_pred_grid))\n",
        "print(\"\\nClassification Report (RandomizedSearchCV):\\n\", classification_report(y_test, y_pred_random))\n"
      ]
    },
    {
      "cell_type": "code",
      "source": [],
      "metadata": {
        "id": "9aCymUSSW89w"
      },
      "execution_count": null,
      "outputs": []
    }
  ]
}