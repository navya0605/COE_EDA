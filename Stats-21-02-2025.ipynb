{
 "cells": [
  {
   "cell_type": "markdown",
   "id": "24787078",
   "metadata": {},
   "source": [
    "# Stats"
   ]
  },
  {
   "cell_type": "markdown",
   "id": "ea7c7a0c",
   "metadata": {},
   "source": [
    "stats is a field to collect the data ,organise and analyze data.\n",
    "with stats we can predict or procrastinate data\n"
   ]
  },
  {
   "cell_type": "markdown",
   "id": "65739668",
   "metadata": {},
   "source": [
    "stats are of 2 types\n",
    "\n",
    "#### 1.Descriptive:organising and summarising data\n",
    "\n",
    "a) Measures of Central Tendency:\n",
    "\n",
    "* Mean \n",
    "* Median \n",
    "* Mode\n",
    "\n",
    "b)Measures of Dispersion\n",
    "\n",
    "* Varience \n",
    "* Standard Deviation\n",
    "\n",
    "#### 2.Inferential:collects data and make predictions of it\n",
    "\n",
    "a) Population\n",
    "* population mean  \n",
    "* population varience\n",
    "\n",
    "b) Sample \n",
    "* mean \n",
    "* varience\n"
   ]
  },
  {
   "cell_type": "markdown",
   "id": "8a389ce2",
   "metadata": {},
   "source": [
    "## a)measures of central tendency"
   ]
  },
  {
   "cell_type": "markdown",
   "id": "c65a2ab2",
   "metadata": {},
   "source": [
    "#### 1.mean"
   ]
  },
  {
   "cell_type": "markdown",
   "id": "7eee45b7",
   "metadata": {},
   "source": [
    "a) Population Mean (μ) = ∑X / N\n",
    "\n",
    "* ∑X is Summation of X\n",
    "\n",
    "* N is Number of X\n",
    "\n",
    "b) Sample Mean x̄ = Σxi / n\n",
    "\n",
    "* Σxi is Sum of Terms in the Sample\n",
    "\n",
    "* n is Number of Terms in Sample"
   ]
  },
  {
   "cell_type": "markdown",
   "id": "39ae575d",
   "metadata": {},
   "source": [
    "#### 2.median"
   ]
  },
  {
   "cell_type": "markdown",
   "id": "344baa61",
   "metadata": {},
   "source": [
    "Median = l + [(n/2 – cf) / f]×h\n",
    "\n",
    "* l is Lower Limit of Median Class\n",
    "* n is Number of Observations\n",
    "* f is Frequency of Median Class\n",
    "* h is Class Size\n",
    "* cf is Cumulative Frequency of Class Preceding Median Class"
   ]
  },
  {
   "cell_type": "markdown",
   "id": "7b3d4295",
   "metadata": {},
   "source": [
    "#### 3.mode"
   ]
  },
  {
   "cell_type": "markdown",
   "id": "4a3d4965",
   "metadata": {},
   "source": [
    "most frequently occurring value"
   ]
  },
  {
   "cell_type": "markdown",
   "id": "806a9458",
   "metadata": {},
   "source": [
    "### b)Measures of Dispersion"
   ]
  },
  {
   "cell_type": "markdown",
   "id": "9b1fe3f2",
   "metadata": {},
   "source": [
    "#### 1.Varience"
   ]
  },
  {
   "cell_type": "markdown",
   "id": "b5300031",
   "metadata": {},
   "source": [
    "a) population varience\n"
   ]
  },
  {
   "cell_type": "code",
   "execution_count": 8,
   "id": "a5c084c1",
   "metadata": {},
   "outputs": [],
   "source": []
  },
  {
   "cell_type": "code",
   "execution_count": null,
   "id": "531a60ab",
   "metadata": {},
   "outputs": [],
   "source": [
    "probability distribution\n",
    "+"
   ]
  }
 ],
 "metadata": {
  "kernelspec": {
   "display_name": "Python 3 (ipykernel)",
   "language": "python",
   "name": "python3"
  },
  "language_info": {
   "codemirror_mode": {
    "name": "ipython",
    "version": 3
   },
   "file_extension": ".py",
   "mimetype": "text/x-python",
   "name": "python",
   "nbconvert_exporter": "python",
   "pygments_lexer": "ipython3",
   "version": "3.11.5"
  }
 },
 "nbformat": 4,
 "nbformat_minor": 5
}
